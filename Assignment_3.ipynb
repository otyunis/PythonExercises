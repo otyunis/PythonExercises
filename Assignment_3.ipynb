{
 "cells": [
  {
   "cell_type": "code",
   "execution_count": 1,
   "id": "9e883321",
   "metadata": {},
   "outputs": [],
   "source": [
    "import tensorflow as tf\n",
    "import numpy as np\n",
    "import xgboost as xgb\n",
    "import matplotlib.pyplot as plt\n",
    "from sklearn.metrics import precision_score, recall_score, accuracy_score\n",
    "from keras.datasets import mnist\n",
    "import time\n",
    "from tensorflow.keras import layers\n",
    "from tensorflow.keras import Sequential"
   ]
  },
  {
   "cell_type": "code",
   "execution_count": 2,
   "id": "c978072e",
   "metadata": {},
   "outputs": [],
   "source": [
    "(X_train, Y_train), (X_test, Y_test) = mnist.load_data()\n",
    "X_train = np.reshape(X_train,(X_train.shape[0],X_train.shape[1]*X_train.shape[2]))/255\n",
    "X_test = np.reshape(X_test,(X_test.shape[0],X_test.shape[1]*X_test.shape[2]))/255\n"
   ]
  },
  {
   "cell_type": "code",
   "execution_count": 3,
   "id": "75fa4b43",
   "metadata": {},
   "outputs": [
    {
     "name": "stdout",
     "output_type": "stream",
     "text": [
      "(60000, 784) (60000,) (10000, 784) (10000,)\n"
     ]
    }
   ],
   "source": [
    "print(X_train.shape, Y_train.shape, X_test.shape, Y_test.shape)"
   ]
  },
  {
   "cell_type": "code",
   "execution_count": 4,
   "id": "127b461f",
   "metadata": {},
   "outputs": [],
   "source": [
    "D_train = xgb.DMatrix(X_train, label=Y_train)\n",
    "D_test = xgb.DMatrix(X_test, label=Y_test)"
   ]
  },
  {
   "cell_type": "code",
   "execution_count": 5,
   "id": "eba88999",
   "metadata": {},
   "outputs": [
    {
     "name": "stdout",
     "output_type": "stream",
     "text": [
      "[14:05:08] WARNING: C:\\Windows\\Temp\\abs_557yfx631l\\croots\\recipe\\xgboost-split_1659548953302\\work\\src\\learner.cc:1115: Starting in XGBoost 1.3.0, the default evaluation metric used with the objective 'multi:softprob' was changed from 'merror' to 'mlogloss'. Explicitly set eval_metric if you'd like to restore the old behavior.\n",
      "Training Time: 16.75418448448181\n"
     ]
    }
   ],
   "source": [
    "param = {\n",
    "    'eta': 0.3, \n",
    "    'max_depth': 5,  \n",
    "    'objective': 'multi:softprob',  \n",
    "    'num_class': 10} \n",
    "\n",
    "steps = 20  # The number of training iterations\n",
    "\n",
    "start = time.time()\n",
    "model_xgb = xgb.train(param, D_train, steps)\n",
    "end = time.time()\n",
    "print('Training Time:', end-start)"
   ]
  },
  {
   "cell_type": "code",
   "execution_count": 6,
   "id": "107b4b43",
   "metadata": {},
   "outputs": [
    {
     "name": "stdout",
     "output_type": "stream",
     "text": [
      "Precision = 0.9502932542595254\n",
      "Recall = 0.9497896352905887\n",
      "Accuracy = 0.9504\n"
     ]
    }
   ],
   "source": [
    "preds = model_xgb.predict(D_test)\n",
    "best_preds = np.asarray([np.argmax(line) for line in preds])\n",
    "\n",
    "print(\"Precision = {}\".format(precision_score(Y_test, best_preds, average='macro')))\n",
    "print(\"Recall = {}\".format(recall_score(Y_test, best_preds, average='macro')))\n",
    "print(\"Accuracy = {}\".format(accuracy_score(Y_test, best_preds)))"
   ]
  },
  {
   "cell_type": "code",
   "execution_count": 7,
   "id": "90a143fc",
   "metadata": {},
   "outputs": [],
   "source": [
    "y_train = np.zeros((Y_train.shape[0], Y_train.max()+1), dtype=np.float32)\n",
    "y_train[np.arange(Y_train.shape[0]), Y_train] = 1\n",
    "y_test = np.zeros((Y_test.shape[0], Y_test.max()+1), dtype=np.float32)\n",
    "y_test[np.arange(Y_test.shape[0]), Y_test] = 1"
   ]
  },
  {
   "cell_type": "code",
   "execution_count": 8,
   "id": "a99ee0b4",
   "metadata": {},
   "outputs": [
    {
     "name": "stdout",
     "output_type": "stream",
     "text": [
      "Model: \"sequential\"\n",
      "_________________________________________________________________\n",
      "Layer (type)                 Output Shape              Param #   \n",
      "=================================================================\n",
      "dense (Dense)                (None, 350)               274750    \n",
      "_________________________________________________________________\n",
      "dense_1 (Dense)              (None, 120)               42120     \n",
      "_________________________________________________________________\n",
      "dense_2 (Dense)              (None, 10)                1210      \n",
      "=================================================================\n",
      "Total params: 318,080\n",
      "Trainable params: 318,080\n",
      "Non-trainable params: 0\n",
      "_________________________________________________________________\n",
      "Model: \"sequential_1\"\n",
      "_________________________________________________________________\n",
      "Layer (type)                 Output Shape              Param #   \n",
      "=================================================================\n",
      "dense_3 (Dense)              (None, 500)               392500    \n",
      "_________________________________________________________________\n",
      "dense_4 (Dense)              (None, 250)               125250    \n",
      "_________________________________________________________________\n",
      "dense_5 (Dense)              (None, 100)               25100     \n",
      "_________________________________________________________________\n",
      "dense_6 (Dense)              (None, 10)                1010      \n",
      "=================================================================\n",
      "Total params: 543,860\n",
      "Trainable params: 543,860\n",
      "Non-trainable params: 0\n",
      "_________________________________________________________________\n"
     ]
    }
   ],
   "source": [
    "# get the model\n",
    "def get_model1(n_inputs, n_outputs):\n",
    "    model = Sequential()\n",
    "    model.add(layers.Dense(350, input_dim=n_inputs, kernel_initializer='he_uniform', activation='sigmoid'))\n",
    "    model.add(layers.Dense(120, input_dim=n_inputs, kernel_initializer='he_uniform', activation='sigmoid'))\n",
    "    model.add(layers.Dense(n_outputs,activation='softmax'))\n",
    "    model.compile(loss='categorical_crossentropy', optimizer='adam', metrics=[tf.keras.metrics.CategoricalAccuracy()])\n",
    "    return model\n",
    "\n",
    "def get_model2(n_inputs, n_outputs):\n",
    "    model = Sequential()\n",
    "    model.add(layers.Dense(500, input_dim=n_inputs, kernel_initializer='he_uniform', activation='sigmoid'))\n",
    "    model.add(layers.Dense(250, input_dim=n_inputs, kernel_initializer='he_uniform', activation='sigmoid'))\n",
    "    model.add(layers.Dense(100, input_dim=n_inputs, kernel_initializer='he_uniform', activation='sigmoid'))\n",
    "    model.add(layers.Dense(n_outputs,activation='softmax'))\n",
    "    model.compile(loss='categorical_crossentropy', optimizer='adam', metrics=[tf.keras.metrics.CategoricalAccuracy()])\n",
    "    return model\n",
    "\n",
    "model_dnn1 = get_model1(28*28,10)\n",
    "model_dnn1.summary()\n",
    "\n",
    "model_dnn2 = get_model2(28*28,10)\n",
    "model_dnn2.summary()"
   ]
  },
  {
   "cell_type": "code",
   "execution_count": 9,
   "id": "0d4ff34c",
   "metadata": {
    "scrolled": true
   },
   "outputs": [
    {
     "name": "stdout",
     "output_type": "stream",
     "text": [
      "Epoch 1/50\n",
      "938/938 [==============================] - 2s 1ms/step - loss: 0.4430 - categorical_accuracy: 0.8821 - val_loss: 0.2170 - val_categorical_accuracy: 0.9347\n",
      "Epoch 2/50\n",
      "938/938 [==============================] - 1s 1ms/step - loss: 0.1853 - categorical_accuracy: 0.9446 - val_loss: 0.1475 - val_categorical_accuracy: 0.9554\n",
      "Epoch 3/50\n",
      "938/938 [==============================] - 1s 1ms/step - loss: 0.1301 - categorical_accuracy: 0.9615 - val_loss: 0.1137 - val_categorical_accuracy: 0.9645\n",
      "Epoch 4/50\n",
      "938/938 [==============================] - 1s 1ms/step - loss: 0.0960 - categorical_accuracy: 0.9713 - val_loss: 0.0937 - val_categorical_accuracy: 0.9712\n",
      "Epoch 5/50\n",
      "938/938 [==============================] - 1s 1ms/step - loss: 0.0732 - categorical_accuracy: 0.9783 - val_loss: 0.0856 - val_categorical_accuracy: 0.9741\n",
      "Epoch 6/50\n",
      "938/938 [==============================] - 1s 1ms/step - loss: 0.0573 - categorical_accuracy: 0.9828 - val_loss: 0.0877 - val_categorical_accuracy: 0.9723\n",
      "Epoch 7/50\n",
      "938/938 [==============================] - 1s 1ms/step - loss: 0.0449 - categorical_accuracy: 0.9865 - val_loss: 0.0709 - val_categorical_accuracy: 0.9774\n",
      "Epoch 8/50\n",
      "938/938 [==============================] - 1s 1ms/step - loss: 0.0340 - categorical_accuracy: 0.9902 - val_loss: 0.0651 - val_categorical_accuracy: 0.9797\n",
      "Epoch 9/50\n",
      "938/938 [==============================] - 1s 1ms/step - loss: 0.0274 - categorical_accuracy: 0.9924 - val_loss: 0.0686 - val_categorical_accuracy: 0.9796\n",
      "Epoch 10/50\n",
      "938/938 [==============================] - 1s 1ms/step - loss: 0.0210 - categorical_accuracy: 0.9941 - val_loss: 0.0664 - val_categorical_accuracy: 0.9800\n",
      "Epoch 11/50\n",
      "938/938 [==============================] - 1s 1ms/step - loss: 0.0163 - categorical_accuracy: 0.9955 - val_loss: 0.0702 - val_categorical_accuracy: 0.9800\n",
      "Epoch 12/50\n",
      "938/938 [==============================] - 1s 1ms/step - loss: 0.0123 - categorical_accuracy: 0.9969 - val_loss: 0.0669 - val_categorical_accuracy: 0.9814\n",
      "Epoch 13/50\n",
      "938/938 [==============================] - 1s 1ms/step - loss: 0.0107 - categorical_accuracy: 0.9972 - val_loss: 0.0835 - val_categorical_accuracy: 0.9777\n",
      "Epoch 14/50\n",
      "938/938 [==============================] - 1s 1ms/step - loss: 0.0079 - categorical_accuracy: 0.9980 - val_loss: 0.0678 - val_categorical_accuracy: 0.9816\n",
      "Epoch 15/50\n",
      "938/938 [==============================] - 1s 1ms/step - loss: 0.0068 - categorical_accuracy: 0.9982 - val_loss: 0.0742 - val_categorical_accuracy: 0.9796\n",
      "Epoch 16/50\n",
      "938/938 [==============================] - 1s 1ms/step - loss: 0.0060 - categorical_accuracy: 0.9985 - val_loss: 0.0792 - val_categorical_accuracy: 0.9805\n",
      "Epoch 17/50\n",
      "938/938 [==============================] - 1s 1ms/step - loss: 0.0039 - categorical_accuracy: 0.9991 - val_loss: 0.0722 - val_categorical_accuracy: 0.9826\n",
      "Epoch 18/50\n",
      "938/938 [==============================] - 1s 1ms/step - loss: 0.0051 - categorical_accuracy: 0.9983 - val_loss: 0.0763 - val_categorical_accuracy: 0.9817\n",
      "Epoch 19/50\n",
      "938/938 [==============================] - 1s 1ms/step - loss: 0.0043 - categorical_accuracy: 0.9989 - val_loss: 0.0794 - val_categorical_accuracy: 0.9820\n",
      "Epoch 20/50\n",
      "938/938 [==============================] - 1s 1ms/step - loss: 0.0019 - categorical_accuracy: 0.9997 - val_loss: 0.0770 - val_categorical_accuracy: 0.9823\n",
      "Epoch 21/50\n",
      "938/938 [==============================] - 1s 1ms/step - loss: 0.0058 - categorical_accuracy: 0.9982 - val_loss: 0.0943 - val_categorical_accuracy: 0.9780\n",
      "Epoch 22/50\n",
      "938/938 [==============================] - 1s 1ms/step - loss: 0.0030 - categorical_accuracy: 0.9994 - val_loss: 0.0816 - val_categorical_accuracy: 0.9816\n",
      "Epoch 23/50\n",
      "938/938 [==============================] - 1s 1ms/step - loss: 0.0025 - categorical_accuracy: 0.9994 - val_loss: 0.0917 - val_categorical_accuracy: 0.9796\n",
      "Epoch 24/50\n",
      "938/938 [==============================] - 1s 1ms/step - loss: 0.0034 - categorical_accuracy: 0.9990 - val_loss: 0.0784 - val_categorical_accuracy: 0.9831\n",
      "Epoch 25/50\n",
      "938/938 [==============================] - 1s 1ms/step - loss: 0.0030 - categorical_accuracy: 0.9991 - val_loss: 0.0932 - val_categorical_accuracy: 0.9800\n",
      "Epoch 26/50\n",
      "938/938 [==============================] - 1s 1ms/step - loss: 5.0633e-04 - categorical_accuracy: 1.0000 - val_loss: 0.0811 - val_categorical_accuracy: 0.9833\n",
      "Epoch 27/50\n",
      "938/938 [==============================] - 1s 1ms/step - loss: 1.7646e-04 - categorical_accuracy: 1.0000 - val_loss: 0.0787 - val_categorical_accuracy: 0.9835\n",
      "Epoch 28/50\n",
      "938/938 [==============================] - 1s 1ms/step - loss: 1.0538e-04 - categorical_accuracy: 1.0000 - val_loss: 0.0801 - val_categorical_accuracy: 0.9837\n",
      "Epoch 29/50\n",
      "938/938 [==============================] - 1s 1ms/step - loss: 8.3104e-05 - categorical_accuracy: 1.0000 - val_loss: 0.0801 - val_categorical_accuracy: 0.9840\n",
      "Epoch 30/50\n",
      "938/938 [==============================] - 1s 1ms/step - loss: 6.7223e-05 - categorical_accuracy: 1.0000 - val_loss: 0.0836 - val_categorical_accuracy: 0.9832\n",
      "Epoch 31/50\n",
      "938/938 [==============================] - 1s 1ms/step - loss: 0.0097 - categorical_accuracy: 0.9969 - val_loss: 0.0903 - val_categorical_accuracy: 0.9814\n",
      "Epoch 32/50\n",
      "938/938 [==============================] - 1s 1ms/step - loss: 0.0012 - categorical_accuracy: 0.9997 - val_loss: 0.0860 - val_categorical_accuracy: 0.9818\n",
      "Epoch 33/50\n",
      "938/938 [==============================] - 1s 1ms/step - loss: 1.3636e-04 - categorical_accuracy: 1.0000 - val_loss: 0.0860 - val_categorical_accuracy: 0.9831\n",
      "Epoch 34/50\n",
      "938/938 [==============================] - 1s 1ms/step - loss: 7.6261e-05 - categorical_accuracy: 1.0000 - val_loss: 0.0871 - val_categorical_accuracy: 0.9826\n",
      "Epoch 35/50\n",
      "938/938 [==============================] - 1s 1ms/step - loss: 5.7694e-05 - categorical_accuracy: 1.0000 - val_loss: 0.0874 - val_categorical_accuracy: 0.9832\n",
      "Epoch 36/50\n",
      "938/938 [==============================] - 1s 1ms/step - loss: 4.6374e-05 - categorical_accuracy: 1.0000 - val_loss: 0.0883 - val_categorical_accuracy: 0.9835\n",
      "Epoch 37/50\n",
      "938/938 [==============================] - 1s 1ms/step - loss: 3.9259e-05 - categorical_accuracy: 1.0000 - val_loss: 0.0897 - val_categorical_accuracy: 0.9836\n",
      "Epoch 38/50\n",
      "938/938 [==============================] - 1s 1ms/step - loss: 3.1119e-05 - categorical_accuracy: 1.0000 - val_loss: 0.0906 - val_categorical_accuracy: 0.9829\n",
      "Epoch 39/50\n",
      "938/938 [==============================] - 1s 1ms/step - loss: 0.0073 - categorical_accuracy: 0.9976 - val_loss: 0.0968 - val_categorical_accuracy: 0.9814\n",
      "Epoch 40/50\n",
      "938/938 [==============================] - 1s 1ms/step - loss: 0.0021 - categorical_accuracy: 0.9992 - val_loss: 0.1169 - val_categorical_accuracy: 0.9798\n",
      "Epoch 41/50\n",
      "938/938 [==============================] - 1s 1ms/step - loss: 0.0012 - categorical_accuracy: 0.9997 - val_loss: 0.0963 - val_categorical_accuracy: 0.9836\n",
      "Epoch 42/50\n",
      "938/938 [==============================] - 1s 1ms/step - loss: 0.0012 - categorical_accuracy: 0.9996 - val_loss: 0.1115 - val_categorical_accuracy: 0.9792\n",
      "Epoch 43/50\n",
      "938/938 [==============================] - 1s 1ms/step - loss: 0.0042 - categorical_accuracy: 0.9987 - val_loss: 0.1005 - val_categorical_accuracy: 0.9812\n",
      "Epoch 44/50\n",
      "938/938 [==============================] - 1s 1ms/step - loss: 0.0014 - categorical_accuracy: 0.9997 - val_loss: 0.0989 - val_categorical_accuracy: 0.9820\n",
      "Epoch 45/50\n",
      "938/938 [==============================] - 1s 1ms/step - loss: 0.0018 - categorical_accuracy: 0.9995 - val_loss: 0.1012 - val_categorical_accuracy: 0.9813\n",
      "Epoch 46/50\n",
      "938/938 [==============================] - 1s 1ms/step - loss: 2.1216e-04 - categorical_accuracy: 1.0000 - val_loss: 0.0943 - val_categorical_accuracy: 0.9824\n",
      "Epoch 47/50\n",
      "938/938 [==============================] - 1s 1ms/step - loss: 3.4789e-05 - categorical_accuracy: 1.0000 - val_loss: 0.0944 - val_categorical_accuracy: 0.9834\n",
      "Epoch 48/50\n",
      "938/938 [==============================] - 1s 1ms/step - loss: 2.3544e-05 - categorical_accuracy: 1.0000 - val_loss: 0.0949 - val_categorical_accuracy: 0.9835\n",
      "Epoch 49/50\n",
      "938/938 [==============================] - 1s 1ms/step - loss: 1.8096e-05 - categorical_accuracy: 1.0000 - val_loss: 0.0963 - val_categorical_accuracy: 0.9831\n"
     ]
    },
    {
     "name": "stdout",
     "output_type": "stream",
     "text": [
      "Epoch 50/50\n",
      "938/938 [==============================] - 1s 1ms/step - loss: 1.4196e-05 - categorical_accuracy: 1.0000 - val_loss: 0.0967 - val_categorical_accuracy: 0.9835\n",
      "Training Time: 67.5883264541626\n"
     ]
    }
   ],
   "source": [
    "batch_size = 64\n",
    "epochs = 50\n",
    "\n",
    "start = time.time()\n",
    "history_dnn1 = model_dnn1.fit(X_train, y_train, batch_size=batch_size, epochs=epochs,validation_data=(X_test, y_test))\n",
    "end = time.time()\n",
    "print('Training Time:', end-start)"
   ]
  },
  {
   "cell_type": "code",
   "execution_count": 10,
   "id": "ccc15aba",
   "metadata": {},
   "outputs": [
    {
     "name": "stdout",
     "output_type": "stream",
     "text": [
      "Epoch 1/50\n",
      "938/938 [==============================] - 2s 2ms/step - loss: 0.4613 - categorical_accuracy: 0.8676 - val_loss: 0.2230 - val_categorical_accuracy: 0.9304\n",
      "Epoch 2/50\n",
      "938/938 [==============================] - 1s 2ms/step - loss: 0.1697 - categorical_accuracy: 0.9494 - val_loss: 0.1466 - val_categorical_accuracy: 0.9576\n",
      "Epoch 3/50\n",
      "938/938 [==============================] - 2s 2ms/step - loss: 0.1147 - categorical_accuracy: 0.9656 - val_loss: 0.1091 - val_categorical_accuracy: 0.9653\n",
      "Epoch 4/50\n",
      "938/938 [==============================] - 2s 2ms/step - loss: 0.0842 - categorical_accuracy: 0.9750 - val_loss: 0.1023 - val_categorical_accuracy: 0.9680\n",
      "Epoch 5/50\n",
      "938/938 [==============================] - 2s 2ms/step - loss: 0.0643 - categorical_accuracy: 0.9803 - val_loss: 0.0903 - val_categorical_accuracy: 0.9720\n",
      "Epoch 6/50\n",
      "938/938 [==============================] - 1s 1ms/step - loss: 0.0496 - categorical_accuracy: 0.9847 - val_loss: 0.0730 - val_categorical_accuracy: 0.9765\n",
      "Epoch 7/50\n",
      "938/938 [==============================] - 1s 2ms/step - loss: 0.0384 - categorical_accuracy: 0.9883 - val_loss: 0.0758 - val_categorical_accuracy: 0.9776\n",
      "Epoch 8/50\n",
      "938/938 [==============================] - 1s 2ms/step - loss: 0.0303 - categorical_accuracy: 0.9904 - val_loss: 0.0712 - val_categorical_accuracy: 0.9791\n",
      "Epoch 9/50\n",
      "938/938 [==============================] - 1s 2ms/step - loss: 0.0248 - categorical_accuracy: 0.9923 - val_loss: 0.0742 - val_categorical_accuracy: 0.9806\n",
      "Epoch 10/50\n",
      "938/938 [==============================] - 1s 2ms/step - loss: 0.0198 - categorical_accuracy: 0.9940 - val_loss: 0.0781 - val_categorical_accuracy: 0.9804\n",
      "Epoch 11/50\n",
      "938/938 [==============================] - 1s 2ms/step - loss: 0.0166 - categorical_accuracy: 0.9949 - val_loss: 0.0832 - val_categorical_accuracy: 0.9776\n",
      "Epoch 12/50\n",
      "938/938 [==============================] - 1s 2ms/step - loss: 0.0144 - categorical_accuracy: 0.9955 - val_loss: 0.0836 - val_categorical_accuracy: 0.9804\n",
      "Epoch 13/50\n",
      "938/938 [==============================] - 1s 2ms/step - loss: 0.0115 - categorical_accuracy: 0.9965 - val_loss: 0.0767 - val_categorical_accuracy: 0.9801\n",
      "Epoch 14/50\n",
      "938/938 [==============================] - 2s 2ms/step - loss: 0.0105 - categorical_accuracy: 0.9966 - val_loss: 0.0784 - val_categorical_accuracy: 0.9814\n",
      "Epoch 15/50\n",
      "938/938 [==============================] - 1s 2ms/step - loss: 0.0081 - categorical_accuracy: 0.9975 - val_loss: 0.0890 - val_categorical_accuracy: 0.9775\n",
      "Epoch 16/50\n",
      "938/938 [==============================] - 1s 1ms/step - loss: 0.0084 - categorical_accuracy: 0.9975 - val_loss: 0.0823 - val_categorical_accuracy: 0.9811\n",
      "Epoch 17/50\n",
      "938/938 [==============================] - 1s 2ms/step - loss: 0.0073 - categorical_accuracy: 0.9974 - val_loss: 0.0902 - val_categorical_accuracy: 0.9804\n",
      "Epoch 18/50\n",
      "938/938 [==============================] - 1s 1ms/step - loss: 0.0047 - categorical_accuracy: 0.9987 - val_loss: 0.0813 - val_categorical_accuracy: 0.9814\n",
      "Epoch 19/50\n",
      "938/938 [==============================] - 1s 1ms/step - loss: 0.0079 - categorical_accuracy: 0.9975 - val_loss: 0.0833 - val_categorical_accuracy: 0.9828\n",
      "Epoch 20/50\n",
      "938/938 [==============================] - 1s 1ms/step - loss: 0.0059 - categorical_accuracy: 0.9981 - val_loss: 0.0989 - val_categorical_accuracy: 0.9797\n",
      "Epoch 21/50\n",
      "938/938 [==============================] - 1s 2ms/step - loss: 0.0029 - categorical_accuracy: 0.9991 - val_loss: 0.0934 - val_categorical_accuracy: 0.9807\n",
      "Epoch 22/50\n",
      "938/938 [==============================] - 1s 2ms/step - loss: 0.0071 - categorical_accuracy: 0.9977 - val_loss: 0.0875 - val_categorical_accuracy: 0.9827\n",
      "Epoch 23/50\n",
      "938/938 [==============================] - 1s 1ms/step - loss: 0.0036 - categorical_accuracy: 0.9989 - val_loss: 0.1054 - val_categorical_accuracy: 0.9792\n",
      "Epoch 24/50\n",
      "938/938 [==============================] - 1s 1ms/step - loss: 0.0051 - categorical_accuracy: 0.9983 - val_loss: 0.0890 - val_categorical_accuracy: 0.9813\n",
      "Epoch 25/50\n",
      "938/938 [==============================] - 1s 2ms/step - loss: 0.0047 - categorical_accuracy: 0.9986 - val_loss: 0.1107 - val_categorical_accuracy: 0.9781\n",
      "Epoch 26/50\n",
      "938/938 [==============================] - 1s 1ms/step - loss: 0.0025 - categorical_accuracy: 0.9993 - val_loss: 0.0997 - val_categorical_accuracy: 0.9802\n",
      "Epoch 27/50\n",
      "938/938 [==============================] - 1s 1ms/step - loss: 0.0042 - categorical_accuracy: 0.9987 - val_loss: 0.0916 - val_categorical_accuracy: 0.9822\n",
      "Epoch 28/50\n",
      "938/938 [==============================] - 1s 1ms/step - loss: 0.0061 - categorical_accuracy: 0.9978 - val_loss: 0.0898 - val_categorical_accuracy: 0.9834\n",
      "Epoch 29/50\n",
      "938/938 [==============================] - 1s 1ms/step - loss: 9.5888e-04 - categorical_accuracy: 0.9998 - val_loss: 0.0899 - val_categorical_accuracy: 0.9836\n",
      "Epoch 30/50\n",
      "938/938 [==============================] - 1s 1ms/step - loss: 0.0048 - categorical_accuracy: 0.9985 - val_loss: 0.0878 - val_categorical_accuracy: 0.9837\n",
      "Epoch 31/50\n",
      "938/938 [==============================] - 1s 1ms/step - loss: 3.0917e-04 - categorical_accuracy: 0.9999 - val_loss: 0.0880 - val_categorical_accuracy: 0.9837\n",
      "Epoch 32/50\n",
      "938/938 [==============================] - 1s 1ms/step - loss: 6.3410e-05 - categorical_accuracy: 1.0000 - val_loss: 0.0883 - val_categorical_accuracy: 0.9839\n",
      "Epoch 33/50\n",
      "938/938 [==============================] - 1s 1ms/step - loss: 3.9380e-05 - categorical_accuracy: 1.0000 - val_loss: 0.0887 - val_categorical_accuracy: 0.9841\n",
      "Epoch 34/50\n",
      "938/938 [==============================] - 1s 1ms/step - loss: 2.8339e-05 - categorical_accuracy: 1.0000 - val_loss: 0.0897 - val_categorical_accuracy: 0.9844\n",
      "Epoch 35/50\n",
      "938/938 [==============================] - 1s 1ms/step - loss: 2.1068e-05 - categorical_accuracy: 1.0000 - val_loss: 0.0911 - val_categorical_accuracy: 0.9850\n",
      "Epoch 36/50\n",
      "938/938 [==============================] - 1s 1ms/step - loss: 1.4786e-05 - categorical_accuracy: 1.0000 - val_loss: 0.0922 - val_categorical_accuracy: 0.9848\n",
      "Epoch 37/50\n",
      "938/938 [==============================] - 1s 1ms/step - loss: 1.0755e-05 - categorical_accuracy: 1.0000 - val_loss: 0.0930 - val_categorical_accuracy: 0.9844\n",
      "Epoch 38/50\n",
      "938/938 [==============================] - 1s 1ms/step - loss: 7.6934e-06 - categorical_accuracy: 1.0000 - val_loss: 0.0941 - val_categorical_accuracy: 0.9848\n",
      "Epoch 39/50\n",
      "938/938 [==============================] - 1s 1ms/step - loss: 5.1660e-06 - categorical_accuracy: 1.0000 - val_loss: 0.0964 - val_categorical_accuracy: 0.9851\n",
      "Epoch 40/50\n",
      "938/938 [==============================] - 1s 1ms/step - loss: 0.0112 - categorical_accuracy: 0.9970 - val_loss: 0.0901 - val_categorical_accuracy: 0.9836\n",
      "Epoch 41/50\n",
      "938/938 [==============================] - 1s 1ms/step - loss: 0.0027 - categorical_accuracy: 0.9992 - val_loss: 0.0955 - val_categorical_accuracy: 0.9824\n",
      "Epoch 42/50\n",
      "938/938 [==============================] - 1s 1ms/step - loss: 0.0049 - categorical_accuracy: 0.9985 - val_loss: 0.1068 - val_categorical_accuracy: 0.9812\n",
      "Epoch 43/50\n",
      "938/938 [==============================] - 1s 1ms/step - loss: 0.0028 - categorical_accuracy: 0.9991 - val_loss: 0.1052 - val_categorical_accuracy: 0.9819\n",
      "Epoch 44/50\n",
      "938/938 [==============================] - 1s 1ms/step - loss: 0.0014 - categorical_accuracy: 0.9996 - val_loss: 0.1058 - val_categorical_accuracy: 0.9816\n",
      "Epoch 45/50\n",
      "938/938 [==============================] - 1s 1ms/step - loss: 0.0037 - categorical_accuracy: 0.9988 - val_loss: 0.0975 - val_categorical_accuracy: 0.9815\n",
      "Epoch 46/50\n",
      "938/938 [==============================] - 1s 1ms/step - loss: 0.0026 - categorical_accuracy: 0.9991 - val_loss: 0.1011 - val_categorical_accuracy: 0.9811\n",
      "Epoch 47/50\n",
      "938/938 [==============================] - 1s 1ms/step - loss: 0.0016 - categorical_accuracy: 0.9995 - val_loss: 0.0992 - val_categorical_accuracy: 0.9817\n",
      "Epoch 48/50\n",
      "938/938 [==============================] - 1s 1ms/step - loss: 0.0041 - categorical_accuracy: 0.9987 - val_loss: 0.1135 - val_categorical_accuracy: 0.9806\n",
      "Epoch 49/50\n",
      "938/938 [==============================] - 1s 1ms/step - loss: 0.0019 - categorical_accuracy: 0.9994 - val_loss: 0.1137 - val_categorical_accuracy: 0.9816\n"
     ]
    },
    {
     "name": "stdout",
     "output_type": "stream",
     "text": [
      "Epoch 50/50\n",
      "938/938 [==============================] - 1s 1ms/step - loss: 0.0014 - categorical_accuracy: 0.9995 - val_loss: 0.1044 - val_categorical_accuracy: 0.9837\n",
      "Training Time: 70.72793960571289\n"
     ]
    }
   ],
   "source": [
    "start = time.time()\n",
    "history_dnn2 = model_dnn2.fit(X_train, y_train, batch_size=batch_size, epochs=epochs,validation_data=(X_test, y_test))\n",
    "end = time.time()\n",
    "print('Training Time:', end-start)"
   ]
  },
  {
   "cell_type": "code",
   "execution_count": null,
   "id": "4d7f50fc",
   "metadata": {},
   "outputs": [],
   "source": []
  }
 ],
 "metadata": {
  "kernelspec": {
   "display_name": "Python 3 (ipykernel)",
   "language": "python",
   "name": "python3"
  },
  "language_info": {
   "codemirror_mode": {
    "name": "ipython",
    "version": 3
   },
   "file_extension": ".py",
   "mimetype": "text/x-python",
   "name": "python",
   "nbconvert_exporter": "python",
   "pygments_lexer": "ipython3",
   "version": "3.9.13"
  }
 },
 "nbformat": 4,
 "nbformat_minor": 5
}
